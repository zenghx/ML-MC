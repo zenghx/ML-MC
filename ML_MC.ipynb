{
  "nbformat": 4,
  "nbformat_minor": 0,
  "metadata": {
    "colab": {
      "name": "ML-MC.ipynb",
      "version": "0.3.2",
      "provenance": [],
      "collapsed_sections": []
    },
    "kernelspec": {
      "name": "python3",
      "display_name": "Python 3"
    },
    "accelerator": "GPU"
  },
  "cells": [
    {
      "cell_type": "markdown",
      "metadata": {
        "id": "mjC_QAPCIxJp",
        "colab_type": "text"
      },
      "source": [
        "将github中的repo clone过来运行，左侧文件里有就不需要运行"
      ]
    },
    {
      "cell_type": "code",
      "metadata": {
        "id": "wLND_tz_Hu0N",
        "colab_type": "code",
        "colab": {}
      },
      "source": [
        "!git clone https://github.com/zenghx/ML-MC.git\n",
        "import os\n",
        "os.chdir(\"/content/ML-MC\")"
      ],
      "execution_count": 0,
      "outputs": []
    },
    {
      "cell_type": "markdown",
      "metadata": {
        "id": "CxsQb8QFVK_-",
        "colab_type": "text"
      },
      "source": [
        "将文件转换为tfRecord\n",
        "参照了[这个](https://www.cnblogs.com/wyh1993/p/6703135.html)"
      ]
    },
    {
      "cell_type": "code",
      "metadata": {
        "id": "9w7NqK4mUPRJ",
        "colab_type": "code",
        "outputId": "f34949f0-5d2e-4f2d-b0a2-32420a21a053",
        "colab": {
          "base_uri": "https://localhost:8080/",
          "height": 53
        }
      },
      "source": [
        "import os\n",
        "import glob\n",
        "from PIL import Image\n",
        "import tensorflow as tf\n",
        "import numpy as np\n",
        "\n",
        "def _int64_feature(value):\n",
        "    if not isinstance(value,list):\n",
        "        value=[value]\n",
        "    return tf.train.Feature(int64_list=tf.train.Int64List(value=value))\n",
        "def _byte_feature(value):\n",
        "    return tf.train.Feature(bytes_list=tf.train.BytesList(value=[value]))\n",
        "\n",
        "def to_tfrecord(data_path,dest_path):\n",
        "  os.chdir(data_path)\n",
        "  folders=os.listdir()\n",
        "  folders.sort()\n",
        "  i=0\n",
        "  with tf.python_io.TFRecordWriter(dest_path) as writer:\n",
        "    for folder in folders:\n",
        "      path=data_path+\"/\"+folder\n",
        "      img_paths=glob.glob(os.path.join(path,\"*.jpg\"))\n",
        "      for img_path in img_paths:\n",
        "        img=Image.open(img_path).convert('P')\n",
        "        img_raw=img.tobytes()\n",
        "        labels=[0]*6\n",
        "        labels[i]=1\n",
        "        example=tf.train.Example(features=tf.train.Features(feature={#填充example\n",
        "            'image_raw':_byte_feature(img_raw),\n",
        "            'label':_int64_feature(labels)}))\n",
        "        writer.write(example.SerializeToString())#把example加入到writer里，最后写到磁盘。\n",
        "      i=i+1\n",
        "  writer.close()\n",
        "  print(dest_path+\" has been written successfully!\")\n",
        "to_tfrecord(\"/content/ML-MC/seg_train\",\"/content/ML-MC/train.record\")     \n",
        "to_tfrecord(\"/content/ML-MC/seg_test\",\"/content/ML-MC/test.record\") "
      ],
      "execution_count": 0,
      "outputs": [
        {
          "output_type": "stream",
          "text": [
            "/content/ML-MC/train.record has been written successfully!\n",
            "/content/ML-MC/test.record has been written successfully!\n"
          ],
          "name": "stdout"
        }
      ]
    }
  ]
}