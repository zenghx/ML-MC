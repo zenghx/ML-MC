{
  "nbformat": 4,
  "nbformat_minor": 0,
  "metadata": {
    "colab": {
      "name": "Untitled0.ipynb",
      "version": "0.3.2",
      "provenance": [],
      "collapsed_sections": [],
      "include_colab_link": true
    },
    "kernelspec": {
      "name": "python3",
      "display_name": "Python 3"
    },
    "accelerator": "GPU"
  },
  "cells": [
    {
      "cell_type": "markdown",
      "metadata": {
        "id": "view-in-github",
        "colab_type": "text"
      },
      "source": [
        "<a href=\"https://colab.research.google.com/github/zenghx/ML-MC/blob/master/main.ipynb\" target=\"_parent\"><img src=\"https://colab.research.google.com/assets/colab-badge.svg\" alt=\"Open In Colab\"/></a>"
      ]
    },
    {
      "cell_type": "code",
      "metadata": {
        "id": "UVG1b-675Ywy",
        "colab_type": "code",
        "colab": {}
      },
      "source": [
        "import os\n"
      ],
      "execution_count": 0,
      "outputs": []
    },
    {
      "cell_type": "markdown",
      "metadata": {
        "id": "mjC_QAPCIxJp",
        "colab_type": "text"
      },
      "source": [
        "将github中的repo clone过来运行"
      ]
    },
    {
      "cell_type": "code",
      "metadata": {
        "id": "wLND_tz_Hu0N",
        "colab_type": "code",
        "outputId": "18fac8b8-fa5c-4948-a2e3-a6eb966a5f3c",
        "colab": {
          "base_uri": "https://localhost:8080/",
          "height": 135
        }
      },
      "source": [
        "!git clone https://github.com/zenghx/ML-MC.git"
      ],
      "execution_count": 0,
      "outputs": [
        {
          "output_type": "error",
          "ename": "IndentationError",
          "evalue": "ignored",
          "traceback": [
            "\u001b[0;36m  File \u001b[0;32m\"<ipython-input-13-9eeaa31f457c>\"\u001b[0;36m, line \u001b[0;32m2\u001b[0m\n\u001b[0;31m    os.chdir(\"/content/ML-MC\")\u001b[0m\n\u001b[0m    ^\u001b[0m\n\u001b[0;31mIndentationError\u001b[0m\u001b[0;31m:\u001b[0m unexpected indent\n"
          ]
        }
      ]
    },
    {
      "cell_type": "code",
      "metadata": {
        "id": "WIxhRjQ-7bl8",
        "colab_type": "code",
        "outputId": "6edd8301-328d-40d9-ac4b-bde75e057e29",
        "colab": {
          "base_uri": "https://localhost:8080/",
          "height": 161
        }
      },
      "source": [
        ""
      ],
      "execution_count": 0,
      "outputs": [
        {
          "output_type": "stream",
          "text": [
            "Cloning into 'ML-MC'...\n",
            "remote: Enumerating objects: 24314, done.\u001b[K\n",
            "remote: Counting objects: 100% (24314/24314), done.\u001b[K\n",
            "remote: Compressing objects: 100% (24310/24310), done.\u001b[K\n",
            "remote: Total 24314 (delta 2), reused 24308 (delta 1), pack-reused 0\u001b[K\n",
            "Receiving objects: 100% (24314/24314), 342.22 MiB | 34.87 MiB/s, done.\n",
            "Resolving deltas: 100% (2/2), done.\n",
            "Checking out files: 100% (24338/24338), done.\n"
          ],
          "name": "stdout"
        }
      ]
    }
  ]
}